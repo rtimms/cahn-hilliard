{
 "cells": [
  {
   "cell_type": "code",
   "execution_count": 1,
   "id": "c3a12dbd-ec59-4e92-840a-58e0cb63cf3f",
   "metadata": {},
   "outputs": [],
   "source": [
    "import pybamm\n",
    "import numpy as np\n",
    "import matplotlib.pyplot as plt\n"
   ]
  },
  {
   "cell_type": "code",
   "execution_count": 2,
   "id": "d36dbb4f-3464-4963-ac45-5f41e73fd4b8",
   "metadata": {},
   "outputs": [],
   "source": [
    "model = pybamm.BaseModel()\n"
   ]
  },
  {
   "cell_type": "code",
   "execution_count": 3,
   "id": "2050cfa7-0e62-4e7e-80bb-5ccfe96458b7",
   "metadata": {},
   "outputs": [],
   "source": [
    "c = pybamm.Variable(\"c\", domain=\"unit line\")\n",
    "mu = pybamm.Variable(\"mu\", domain=\"unit line\")\n",
    "F = pybamm.Variable(\"F\", domain=\"unit line\")\n"
   ]
  },
  {
   "cell_type": "code",
   "execution_count": 4,
   "id": "e0b35ee3-2120-49d2-969b-bf6fe0be7736",
   "metadata": {},
   "outputs": [],
   "source": [
    "D = c * (1 - c)  # diffusion coefficient\n",
    "omega = pybamm.Scalar(3)  # enthalpy of mixing per site\n",
    "kappa = pybamm.Scalar(0.005) # gradient energy penalty coefficient\n",
    "I = 0.005 # insertion current density\n",
    "F = D * pybamm.grad(mu) # flux\n"
   ]
  },
  {
   "cell_type": "code",
   "execution_count": 5,
   "id": "970a4695-979e-405c-8d22-6b6a9f48c35b",
   "metadata": {},
   "outputs": [],
   "source": [
    "# governing equations\n",
    "dcdt = pybamm.div(F)\n",
    "mu_gov = pybamm.log(c / (1 - c)) + omega * (1 - 2 * c) - kappa * pybamm.div(pybamm.grad(c)) - mu  # chemical potential\n"
   ]
  },
  {
   "cell_type": "code",
   "execution_count": 6,
   "id": "3b0f4d57-c09e-4dba-936e-97683728257b",
   "metadata": {},
   "outputs": [],
   "source": [
    "model.rhs = {c: dcdt}\n",
    "model.algebraic = {mu: mu_gov}\n"
   ]
  },
  {
   "cell_type": "code",
   "execution_count": 7,
   "id": "a8af283b-8aa8-49b7-96ec-18ae8157bd87",
   "metadata": {},
   "outputs": [],
   "source": [
    "x = pybamm.SpatialVariable(\"x\", domain=\"unit line\")\n",
    "c0 = 0.5 * pybamm.tanh(10 * (x - 0.5)) + 0.5 # initial concentration\n",
    "mu0 = pybamm.log(c0 / (1 - c0)) + omega * (1 - 2 * c0) - kappa * pybamm.div(pybamm.grad(c0))  # initial chemical potential\n",
    "model.initial_conditions = {c: c0, mu: mu0}\n"
   ]
  },
  {
   "cell_type": "code",
   "execution_count": 8,
   "id": "37c2a26d-b059-41be-a2ca-72760b7e6a40",
   "metadata": {},
   "outputs": [],
   "source": [
    "c_surf = pybamm.BoundaryValue(\n",
    "    c, \"right\" # surface concentration\n",
    ")\n",
    "\n",
    "model.boundary_conditions = {\n",
    "    c: {\"left\": (0, \"Neumann\"), \"right\": (0, \"Neumann\")},\n",
    "    c0 : {\"left\": (0.5 * pybamm.tanh(10 * (0 - 0.5)) + 0.5, \"Dirichlet\"), \"right\": (0.5 * pybamm.tanh(10 * (1 - 0.5)) + 0.5, \"Dirichlet\")},\n",
    "    mu: {\"left\": (0, \"Neumann\"), \"right\": (I / (c_surf * (1 - c_surf)), \"Neumann\")},\n",
    "    # F: {\"left\": (0, \"Dirichlet\"), \"right\": (I, \"Dirichlet\")},\n",
    "}\n"
   ]
  },
  {
   "cell_type": "code",
   "execution_count": 9,
   "id": "0138df13-e5ad-45a5-8da0-4ac516b9fd63",
   "metadata": {},
   "outputs": [],
   "source": [
    "model.variables = {\"c\": c, \"mu\": mu}\n"
   ]
  },
  {
   "cell_type": "code",
   "execution_count": 10,
   "id": "e4e84c26-6edd-4054-a996-cb964cbee6f0",
   "metadata": {},
   "outputs": [],
   "source": [
    "# define geometry\n",
    "geometry = {\"unit line\": {x: {\"min\": pybamm.Scalar(0), \"max\": pybamm.Scalar(1)}}}\n"
   ]
  },
  {
   "cell_type": "code",
   "execution_count": 11,
   "id": "f2b592c0-7a8c-4034-966b-dd778ea8302f",
   "metadata": {},
   "outputs": [],
   "source": [
    "# mesh and discretise\n",
    "submesh_types = {\"unit line\": pybamm.Uniform1DSubMesh}\n",
    "var_pts = {x: 101}\n",
    "mesh = pybamm.Mesh(geometry, submesh_types, var_pts)\n"
   ]
  },
  {
   "cell_type": "code",
   "execution_count": 12,
   "id": "c7ce7087-f638-48db-a64a-2e5ea6bbce50",
   "metadata": {},
   "outputs": [
    {
     "data": {
      "text/plain": [
       "<pybamm.models.base_model.BaseModel at 0x14552f590>"
      ]
     },
     "execution_count": 12,
     "metadata": {},
     "output_type": "execute_result"
    }
   ],
   "source": [
    "spatial_methods = {\"unit line\": pybamm.FiniteVolume()}\n",
    "disc = pybamm.Discretisation(mesh, spatial_methods)\n",
    "disc.process_model(model)\n"
   ]
  },
  {
   "cell_type": "code",
   "execution_count": 13,
   "id": "4eb26bea-2075-4c4c-a848-438e45220a6c",
   "metadata": {},
   "outputs": [
    {
     "name": "stderr",
     "output_type": "stream",
     "text": [
      "At t = 0.000192696, , mxstep steps taken before reaching tout.\n"
     ]
    },
    {
     "ename": "SolverError",
     "evalue": "Error in Function::call for 'F' [IdasInterface] at .../casadi/core/function.cpp:1432:\nError in Function::call for 'F' [IdasInterface] at .../casadi/core/function.cpp:361:\n.../casadi/interfaces/sundials/idas_interface.cpp:596: IDASolve returned \"IDA_TOO_MUCH_WORK\". Consult IDAS documentation.",
     "output_type": "error",
     "traceback": [
      "\u001b[0;31m---------------------------------------------------------------------------\u001b[0m",
      "\u001b[0;31mRuntimeError\u001b[0m                              Traceback (most recent call last)",
      "\u001b[0;32m/opt/anaconda3/lib/python3.11/site-packages/pybamm/solvers/casadi_solver.py\u001b[0m in \u001b[0;36m?\u001b[0;34m(self, model, y0, inputs_dict, inputs, t_eval, use_grid, extract_sensitivities_in_solution)\u001b[0m\n\u001b[1;32m    683\u001b[0m                 \u001b[0;31m# If it doesn't work raise error\u001b[0m\u001b[0;34m\u001b[0m\u001b[0;34m\u001b[0m\u001b[0m\n\u001b[1;32m    684\u001b[0m                 \u001b[0mpybamm\u001b[0m\u001b[0;34m.\u001b[0m\u001b[0mlogger\u001b[0m\u001b[0;34m.\u001b[0m\u001b[0mdebug\u001b[0m\u001b[0;34m(\u001b[0m\u001b[0;34mf\"Casadi integrator failed with error {error}\"\u001b[0m\u001b[0;34m)\u001b[0m\u001b[0;34m\u001b[0m\u001b[0;34m\u001b[0m\u001b[0m\n\u001b[0;32m--> 685\u001b[0;31m                 \u001b[0;32mraise\u001b[0m \u001b[0mpybamm\u001b[0m\u001b[0;34m.\u001b[0m\u001b[0mSolverError\u001b[0m\u001b[0;34m(\u001b[0m\u001b[0merror\u001b[0m\u001b[0;34m.\u001b[0m\u001b[0margs\u001b[0m\u001b[0;34m[\u001b[0m\u001b[0;36m0\u001b[0m\u001b[0;34m]\u001b[0m\u001b[0;34m)\u001b[0m\u001b[0;34m\u001b[0m\u001b[0;34m\u001b[0m\u001b[0m\n\u001b[0m\u001b[1;32m    686\u001b[0m             \u001b[0mpybamm\u001b[0m\u001b[0;34m.\u001b[0m\u001b[0mlogger\u001b[0m\u001b[0;34m.\u001b[0m\u001b[0mdebug\u001b[0m\u001b[0;34m(\u001b[0m\u001b[0;34m\"Finished casadi integrator\"\u001b[0m\u001b[0;34m)\u001b[0m\u001b[0;34m\u001b[0m\u001b[0;34m\u001b[0m\u001b[0m\n",
      "\u001b[0;32m/opt/anaconda3/lib/python3.11/site-packages/casadi/casadi.py\u001b[0m in \u001b[0;36m?\u001b[0;34m(self, *args, **kwargs)\u001b[0m\n\u001b[1;32m  23380\u001b[0m       \u001b[0;32melse\u001b[0m\u001b[0;34m:\u001b[0m\u001b[0;34m\u001b[0m\u001b[0;34m\u001b[0m\u001b[0m\n\u001b[1;32m  23381\u001b[0m     \u001b[0;31m# Named inputs -> return dictionary\u001b[0m\u001b[0;34m\u001b[0m\u001b[0;34m\u001b[0m\u001b[0m\n\u001b[0;32m> 23382\u001b[0;31m         \u001b[0;32mreturn\u001b[0m \u001b[0mself\u001b[0m\u001b[0;34m.\u001b[0m\u001b[0mcall\u001b[0m\u001b[0;34m(\u001b[0m\u001b[0mkwargs\u001b[0m\u001b[0;34m)\u001b[0m\u001b[0;34m\u001b[0m\u001b[0;34m\u001b[0m\u001b[0m\n\u001b[0m",
      "\u001b[0;32m/opt/anaconda3/lib/python3.11/site-packages/casadi/casadi.py\u001b[0m in \u001b[0;36m?\u001b[0;34m(self, *args)\u001b[0m\n\u001b[1;32m  20029\u001b[0m \u001b[0;34m\u001b[0m\u001b[0m\n\u001b[1;32m  20030\u001b[0m         \"\"\"\n\u001b[0;32m> 20031\u001b[0;31m         \u001b[0;32mreturn\u001b[0m \u001b[0m_casadi\u001b[0m\u001b[0;34m.\u001b[0m\u001b[0mFunction_call\u001b[0m\u001b[0;34m(\u001b[0m\u001b[0mself\u001b[0m\u001b[0;34m,\u001b[0m \u001b[0;34m*\u001b[0m\u001b[0margs\u001b[0m\u001b[0;34m)\u001b[0m\u001b[0;34m\u001b[0m\u001b[0;34m\u001b[0m\u001b[0m\n\u001b[0m",
      "\u001b[0;31mRuntimeError\u001b[0m: Error in Function::call for 'F' [IdasInterface] at .../casadi/core/function.cpp:1432:\nError in Function::call for 'F' [IdasInterface] at .../casadi/core/function.cpp:361:\n.../casadi/interfaces/sundials/idas_interface.cpp:596: IDASolve returned \"IDA_TOO_MUCH_WORK\". Consult IDAS documentation.",
      "\nDuring handling of the above exception, another exception occurred:\n",
      "\u001b[0;31mSolverError\u001b[0m                               Traceback (most recent call last)",
      "Cell \u001b[0;32mIn[13], line 5\u001b[0m\n\u001b[1;32m      3\u001b[0m solver \u001b[38;5;241m=\u001b[39m pybamm\u001b[38;5;241m.\u001b[39mCasadiSolver(mode\u001b[38;5;241m=\u001b[39m\u001b[38;5;124m\"\u001b[39m\u001b[38;5;124msafe\u001b[39m\u001b[38;5;124m\"\u001b[39m)\n\u001b[1;32m      4\u001b[0m t \u001b[38;5;241m=\u001b[39m np\u001b[38;5;241m.\u001b[39mlinspace(\u001b[38;5;241m0\u001b[39m, \u001b[38;5;241m10\u001b[39m, \u001b[38;5;241m100\u001b[39m)\n\u001b[0;32m----> 5\u001b[0m solution \u001b[38;5;241m=\u001b[39m solver\u001b[38;5;241m.\u001b[39msolve(model, t)\n\u001b[1;32m      7\u001b[0m \u001b[38;5;66;03m# post-process, so solution can be called at any time t or space x\u001b[39;00m\n\u001b[1;32m      8\u001b[0m c \u001b[38;5;241m=\u001b[39m solution[\u001b[38;5;124m\"\u001b[39m\u001b[38;5;124mc\u001b[39m\u001b[38;5;124m\"\u001b[39m]\n",
      "File \u001b[0;32m/opt/anaconda3/lib/python3.11/site-packages/pybamm/solvers/base_solver.py:902\u001b[0m, in \u001b[0;36mBaseSolver.solve\u001b[0;34m(self, model, t_eval, inputs, nproc, calculate_sensitivities)\u001b[0m\n\u001b[1;32m    900\u001b[0m ninputs \u001b[38;5;241m=\u001b[39m \u001b[38;5;28mlen\u001b[39m(model_inputs_list)\n\u001b[1;32m    901\u001b[0m \u001b[38;5;28;01mif\u001b[39;00m ninputs \u001b[38;5;241m==\u001b[39m \u001b[38;5;241m1\u001b[39m:\n\u001b[0;32m--> 902\u001b[0m     new_solution \u001b[38;5;241m=\u001b[39m \u001b[38;5;28mself\u001b[39m\u001b[38;5;241m.\u001b[39m_integrate(\n\u001b[1;32m    903\u001b[0m         model,\n\u001b[1;32m    904\u001b[0m         t_eval[start_index:end_index],\n\u001b[1;32m    905\u001b[0m         model_inputs_list[\u001b[38;5;241m0\u001b[39m],\n\u001b[1;32m    906\u001b[0m     )\n\u001b[1;32m    907\u001b[0m     new_solutions \u001b[38;5;241m=\u001b[39m [new_solution]\n\u001b[1;32m    908\u001b[0m \u001b[38;5;28;01melse\u001b[39;00m:\n",
      "File \u001b[0;32m/opt/anaconda3/lib/python3.11/site-packages/pybamm/solvers/casadi_solver.py:172\u001b[0m, in \u001b[0;36mCasadiSolver._integrate\u001b[0;34m(self, model, t_eval, inputs_dict)\u001b[0m\n\u001b[1;32m    168\u001b[0m \u001b[38;5;66;03m# Create an integrator with the grid (we just need to do this once)\u001b[39;00m\n\u001b[1;32m    169\u001b[0m \u001b[38;5;28mself\u001b[39m\u001b[38;5;241m.\u001b[39mcreate_integrator(\n\u001b[1;32m    170\u001b[0m     model, inputs, t_eval, use_event_switch\u001b[38;5;241m=\u001b[39muse_event_switch\n\u001b[1;32m    171\u001b[0m )\n\u001b[0;32m--> 172\u001b[0m solution \u001b[38;5;241m=\u001b[39m \u001b[38;5;28mself\u001b[39m\u001b[38;5;241m.\u001b[39m_run_integrator(\n\u001b[1;32m    173\u001b[0m     model, model\u001b[38;5;241m.\u001b[39my0, inputs_dict, inputs, t_eval\n\u001b[1;32m    174\u001b[0m )\n\u001b[1;32m    175\u001b[0m \u001b[38;5;66;03m# Check if the sign of an event changes, if so find an accurate\u001b[39;00m\n\u001b[1;32m    176\u001b[0m \u001b[38;5;66;03m# termination point and exit\u001b[39;00m\n\u001b[1;32m    177\u001b[0m solution \u001b[38;5;241m=\u001b[39m \u001b[38;5;28mself\u001b[39m\u001b[38;5;241m.\u001b[39m_solve_for_event(solution)\n",
      "File \u001b[0;32m/opt/anaconda3/lib/python3.11/site-packages/pybamm/solvers/casadi_solver.py:685\u001b[0m, in \u001b[0;36mCasadiSolver._run_integrator\u001b[0;34m(self, model, y0, inputs_dict, inputs, t_eval, use_grid, extract_sensitivities_in_solution)\u001b[0m\n\u001b[1;32m    682\u001b[0m \u001b[38;5;28;01mexcept\u001b[39;00m \u001b[38;5;167;01mRuntimeError\u001b[39;00m \u001b[38;5;28;01mas\u001b[39;00m error:\n\u001b[1;32m    683\u001b[0m     \u001b[38;5;66;03m# If it doesn't work raise error\u001b[39;00m\n\u001b[1;32m    684\u001b[0m     pybamm\u001b[38;5;241m.\u001b[39mlogger\u001b[38;5;241m.\u001b[39mdebug(\u001b[38;5;124mf\u001b[39m\u001b[38;5;124m\"\u001b[39m\u001b[38;5;124mCasadi integrator failed with error \u001b[39m\u001b[38;5;132;01m{\u001b[39;00merror\u001b[38;5;132;01m}\u001b[39;00m\u001b[38;5;124m\"\u001b[39m)\n\u001b[0;32m--> 685\u001b[0m     \u001b[38;5;28;01mraise\u001b[39;00m pybamm\u001b[38;5;241m.\u001b[39mSolverError(error\u001b[38;5;241m.\u001b[39margs[\u001b[38;5;241m0\u001b[39m])\n\u001b[1;32m    686\u001b[0m pybamm\u001b[38;5;241m.\u001b[39mlogger\u001b[38;5;241m.\u001b[39mdebug(\u001b[38;5;124m\"\u001b[39m\u001b[38;5;124mFinished casadi integrator\u001b[39m\u001b[38;5;124m\"\u001b[39m)\n\u001b[1;32m    687\u001b[0m integration_time \u001b[38;5;241m=\u001b[39m timer\u001b[38;5;241m.\u001b[39mtime()\n",
      "\u001b[0;31mSolverError\u001b[0m: Error in Function::call for 'F' [IdasInterface] at .../casadi/core/function.cpp:1432:\nError in Function::call for 'F' [IdasInterface] at .../casadi/core/function.cpp:361:\n.../casadi/interfaces/sundials/idas_interface.cpp:596: IDASolve returned \"IDA_TOO_MUCH_WORK\". Consult IDAS documentation."
     ]
    }
   ],
   "source": [
    "# solve\n",
    "# solver = pybamm.ScipySolver()\n",
    "solver = pybamm.CasadiSolver(mode=\"safe\")\n",
    "t = np.linspace(0, 10, 100)\n",
    "solution = solver.solve(model, t)\n",
    "\n",
    "# post-process, so solution can be called at any time t or space x\n",
    "c = solution[\"c\"]\n",
    "mu = solution[\"mu\"]\n",
    "\n",
    "# plot\n",
    "fig, (ax1, ax2) = plt.subplots(1, 2, figsize=(13, 4))\n",
    "\n",
    "ax1.plot(solution.t, c(solution.t, x=1))\n",
    "ax1.set_xlabel(\"t\")\n",
    "ax1.set_ylabel(\"Surface concentration\")\n",
    "x = np.linspace(0, 1, 100)\n",
    "ax2.plot(x, c(t=0, x=x), label=\"t = 0\")\n",
    "ax2.plot(x, c(t=0.05, x=x), label=\"t = 0.05\")\n",
    "ax2.plot(x, c(t=0.5, x=x), label=\"t = 0.5\")\n",
    "ax2.set_xlabel(\"x\")\n",
    "ax2.set_ylabel(\"Concentration\")\n",
    "plt.legend()\n",
    "plt.tight_layout()\n",
    "plt.show()\n"
   ]
  },
  {
   "cell_type": "code",
   "execution_count": null,
   "id": "b2686d7a-fe26-439c-90ac-f85803197aba",
   "metadata": {},
   "outputs": [],
   "source": []
  }
 ],
 "metadata": {
  "kernelspec": {
   "display_name": "Python 3 (ipykernel)",
   "language": "python",
   "name": "python3"
  },
  "language_info": {
   "codemirror_mode": {
    "name": "ipython",
    "version": 3
   },
   "file_extension": ".py",
   "mimetype": "text/x-python",
   "name": "python",
   "nbconvert_exporter": "python",
   "pygments_lexer": "ipython3",
   "version": "3.11.7"
  },
  "vscode": {
   "interpreter": {
    "hash": "da8e6e803cbb6cc65c8e5c8b7401f481f736d0f9645b2501c5eaad9a468862df"
   }
  }
 },
 "nbformat": 4,
 "nbformat_minor": 5
}
