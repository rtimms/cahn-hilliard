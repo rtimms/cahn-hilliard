{
 "cells": [
  {
   "cell_type": "code",
   "execution_count": 1,
   "id": "c3a12dbd-ec59-4e92-840a-58e0cb63cf3f",
   "metadata": {},
   "outputs": [],
   "source": [
    "import pybamm\n",
    "import numpy as np\n",
    "import matplotlib.pyplot as plt"
   ]
  },
  {
   "cell_type": "code",
   "execution_count": 2,
   "id": "d36dbb4f-3464-4963-ac45-5f41e73fd4b8",
   "metadata": {},
   "outputs": [],
   "source": [
    "model = pybamm.BaseModel()"
   ]
  },
  {
   "cell_type": "code",
   "execution_count": 3,
   "id": "2050cfa7-0e62-4e7e-80bb-5ccfe96458b7",
   "metadata": {},
   "outputs": [],
   "source": [
    "c = pybamm.Variable(\"c\", domain=\"unit line\")"
   ]
  },
  {
   "cell_type": "code",
   "execution_count": 4,
   "id": "e0b35ee3-2120-49d2-969b-bf6fe0be7736",
   "metadata": {},
   "outputs": [],
   "source": [
    "D = c*(1 - c) # diffusion coefficient\n",
    "omega = pybamm.Scalar(0.5) # enthalpy of mixing per site\n",
    "mu = pybamm.Log(c/(1-c)) + omega*(1-2*c) # chemical potential\n",
    "\n",
    "N = pybamm.grad(mu)\n",
    "# N = pybamm.grad(c)"
   ]
  },
  {
   "cell_type": "code",
   "execution_count": 5,
   "id": "970a4695-979e-405c-8d22-6b6a9f48c35b",
   "metadata": {},
   "outputs": [],
   "source": [
    "dcdt = pybamm.div(D * N)"
   ]
  },
  {
   "cell_type": "code",
   "execution_count": 6,
   "id": "3b0f4d57-c09e-4dba-936e-97683728257b",
   "metadata": {},
   "outputs": [],
   "source": [
    "model.rhs = {c: dcdt}"
   ]
  },
  {
   "cell_type": "code",
   "execution_count": 7,
   "id": "37c2a26d-b059-41be-a2ca-72760b7e6a40",
   "metadata": {},
   "outputs": [],
   "source": [
    "model.boundary_conditions = {\n",
    "    c:{\n",
    "    \"left\": (0, \"Neumann\"), \"right\": (0 , \"Neumann\")\n",
    "    } \n",
    "}"
   ]
  },
  {
   "cell_type": "code",
   "execution_count": 8,
   "id": "97e6d361-6825-43fc-b648-8623f8790eab",
   "metadata": {},
   "outputs": [],
   "source": [
    "x = pybamm.SpatialVariable(\"x\", domain=\"unit line\")\n",
    "model.initial_conditions = {c: 0.3*pybamm.tanh(10*(x-0.5))+0.5}"
   ]
  },
  {
   "cell_type": "code",
   "execution_count": 9,
   "id": "0138df13-e5ad-45a5-8da0-4ac516b9fd63",
   "metadata": {},
   "outputs": [],
   "source": [
    "model.variables = {\"c\": c}"
   ]
  },
  {
   "cell_type": "code",
   "execution_count": 10,
   "id": "e4e84c26-6edd-4054-a996-cb964cbee6f0",
   "metadata": {},
   "outputs": [],
   "source": [
    "# define geometry\n",
    "geometry = {\"unit line\": {x: {\"min\": pybamm.Scalar(0), \"max\": pybamm.Scalar(1)}}}"
   ]
  },
  {
   "cell_type": "code",
   "execution_count": 11,
   "id": "f2b592c0-7a8c-4034-966b-dd778ea8302f",
   "metadata": {},
   "outputs": [],
   "source": [
    "# mesh and discretise\n",
    "submesh_types = {\"unit line\": pybamm.Uniform1DSubMesh}\n",
    "var_pts = {x: 101}\n",
    "mesh = pybamm.Mesh(geometry, submesh_types, var_pts)"
   ]
  },
  {
   "cell_type": "code",
   "execution_count": 12,
   "id": "c7ce7087-f638-48db-a64a-2e5ea6bbce50",
   "metadata": {},
   "outputs": [
    {
     "ename": "ShapeError",
     "evalue": "Cannot find shape (original error: operands could not be broadcast together with shapes (102,1) (100,1) )",
     "output_type": "error",
     "traceback": [
      "\u001b[0;31m---------------------------------------------------------------------------\u001b[0m",
      "\u001b[0;31mKeyError\u001b[0m                                  Traceback (most recent call last)",
      "File \u001b[0;32m/opt/anaconda3/lib/python3.11/site-packages/pybamm/discretisations/discretisation.py:718\u001b[0m, in \u001b[0;36mDiscretisation.process_symbol\u001b[0;34m(self, symbol)\u001b[0m\n\u001b[1;32m    717\u001b[0m \u001b[38;5;28;01mtry\u001b[39;00m:\n\u001b[0;32m--> 718\u001b[0m     \u001b[38;5;28;01mreturn\u001b[39;00m \u001b[38;5;28mself\u001b[39m\u001b[38;5;241m.\u001b[39m_discretised_symbols[symbol]\n\u001b[1;32m    719\u001b[0m \u001b[38;5;28;01mexcept\u001b[39;00m \u001b[38;5;167;01mKeyError\u001b[39;00m:\n",
      "\u001b[0;31mKeyError\u001b[0m: Divergence(-0x5e847a9af1570fd8, div, children=['c * (1.0 - c) * grad(log(c / (1.0 - c)) + 0.5 - c)'], domains={'primary': ['unit line']})",
      "\nDuring handling of the above exception, another exception occurred:\n",
      "\u001b[0;31mKeyError\u001b[0m                                  Traceback (most recent call last)",
      "File \u001b[0;32m/opt/anaconda3/lib/python3.11/site-packages/pybamm/discretisations/discretisation.py:718\u001b[0m, in \u001b[0;36mDiscretisation.process_symbol\u001b[0;34m(self, symbol)\u001b[0m\n\u001b[1;32m    717\u001b[0m \u001b[38;5;28;01mtry\u001b[39;00m:\n\u001b[0;32m--> 718\u001b[0m     \u001b[38;5;28;01mreturn\u001b[39;00m \u001b[38;5;28mself\u001b[39m\u001b[38;5;241m.\u001b[39m_discretised_symbols[symbol]\n\u001b[1;32m    719\u001b[0m \u001b[38;5;28;01mexcept\u001b[39;00m \u001b[38;5;167;01mKeyError\u001b[39;00m:\n",
      "\u001b[0;31mKeyError\u001b[0m: Multiplication(0x2c2dbdadc8674fd, *, children=['c * (1.0 - c)', 'grad(log(c / (1.0 - c)) + 0.5 - c)'], domains={'primary': ['unit line']})",
      "\nDuring handling of the above exception, another exception occurred:\n",
      "\u001b[0;31mAttributeError\u001b[0m                            Traceback (most recent call last)",
      "File \u001b[0;32m/opt/anaconda3/lib/python3.11/site-packages/pybamm/expression_tree/symbol.py:789\u001b[0m, in \u001b[0;36mSymbol.evaluate_for_shape\u001b[0;34m(self)\u001b[0m\n\u001b[1;32m    788\u001b[0m \u001b[38;5;28;01mtry\u001b[39;00m:\n\u001b[0;32m--> 789\u001b[0m     \u001b[38;5;28;01mreturn\u001b[39;00m \u001b[38;5;28mself\u001b[39m\u001b[38;5;241m.\u001b[39m_saved_evaluate_for_shape\n\u001b[1;32m    790\u001b[0m \u001b[38;5;28;01mexcept\u001b[39;00m \u001b[38;5;167;01mAttributeError\u001b[39;00m:\n",
      "\u001b[0;31mAttributeError\u001b[0m: 'Multiplication' object has no attribute '_saved_evaluate_for_shape'",
      "\nDuring handling of the above exception, another exception occurred:\n",
      "\u001b[0;31mValueError\u001b[0m                                Traceback (most recent call last)",
      "File \u001b[0;32m/opt/anaconda3/lib/python3.11/site-packages/pybamm/expression_tree/symbol.py:995\u001b[0m, in \u001b[0;36mSymbol.test_shape\u001b[0;34m(self)\u001b[0m\n\u001b[1;32m    994\u001b[0m \u001b[38;5;28;01mtry\u001b[39;00m:\n\u001b[0;32m--> 995\u001b[0m     \u001b[38;5;28mself\u001b[39m\u001b[38;5;241m.\u001b[39mshape_for_testing\n\u001b[1;32m    996\u001b[0m \u001b[38;5;28;01mexcept\u001b[39;00m \u001b[38;5;167;01mValueError\u001b[39;00m \u001b[38;5;28;01mas\u001b[39;00m e:\n",
      "File \u001b[0;32m/opt/anaconda3/lib/python3.11/site-packages/pybamm/expression_tree/symbol.py:971\u001b[0m, in \u001b[0;36mSymbol.shape_for_testing\u001b[0;34m(self)\u001b[0m\n\u001b[1;32m    966\u001b[0m \u001b[38;5;250m\u001b[39m\u001b[38;5;124;03m\"\"\"\u001b[39;00m\n\u001b[1;32m    967\u001b[0m \u001b[38;5;124;03mShape of an object for cases where it cannot be evaluated directly. If a symbol\u001b[39;00m\n\u001b[1;32m    968\u001b[0m \u001b[38;5;124;03mcannot be evaluated directly (e.g. it is a `Variable` or `Parameter`), it is\u001b[39;00m\n\u001b[1;32m    969\u001b[0m \u001b[38;5;124;03minstead given an arbitrary domain-dependent shape.\u001b[39;00m\n\u001b[1;32m    970\u001b[0m \u001b[38;5;124;03m\"\"\"\u001b[39;00m\n\u001b[0;32m--> 971\u001b[0m evaluated_self \u001b[38;5;241m=\u001b[39m \u001b[38;5;28mself\u001b[39m\u001b[38;5;241m.\u001b[39mevaluate_for_shape()\n\u001b[1;32m    972\u001b[0m \u001b[38;5;28;01mif\u001b[39;00m \u001b[38;5;28misinstance\u001b[39m(evaluated_self, numbers\u001b[38;5;241m.\u001b[39mNumber):\n",
      "File \u001b[0;32m/opt/anaconda3/lib/python3.11/site-packages/pybamm/expression_tree/symbol.py:791\u001b[0m, in \u001b[0;36mSymbol.evaluate_for_shape\u001b[0;34m(self)\u001b[0m\n\u001b[1;32m    790\u001b[0m \u001b[38;5;28;01mexcept\u001b[39;00m \u001b[38;5;167;01mAttributeError\u001b[39;00m:\n\u001b[0;32m--> 791\u001b[0m     \u001b[38;5;28mself\u001b[39m\u001b[38;5;241m.\u001b[39m_saved_evaluate_for_shape \u001b[38;5;241m=\u001b[39m \u001b[38;5;28mself\u001b[39m\u001b[38;5;241m.\u001b[39m_evaluate_for_shape()\n\u001b[1;32m    792\u001b[0m     \u001b[38;5;28;01mreturn\u001b[39;00m \u001b[38;5;28mself\u001b[39m\u001b[38;5;241m.\u001b[39m_saved_evaluate_for_shape\n",
      "File \u001b[0;32m/opt/anaconda3/lib/python3.11/site-packages/pybamm/expression_tree/binary_operators.py:139\u001b[0m, in \u001b[0;36mBinaryOperator._evaluate_for_shape\u001b[0;34m(self)\u001b[0m\n\u001b[1;32m    138\u001b[0m right \u001b[38;5;241m=\u001b[39m \u001b[38;5;28mself\u001b[39m\u001b[38;5;241m.\u001b[39mchildren[\u001b[38;5;241m1\u001b[39m]\u001b[38;5;241m.\u001b[39mevaluate_for_shape()\n\u001b[0;32m--> 139\u001b[0m \u001b[38;5;28;01mreturn\u001b[39;00m \u001b[38;5;28mself\u001b[39m\u001b[38;5;241m.\u001b[39m_binary_evaluate(left, right)\n",
      "File \u001b[0;32m/opt/anaconda3/lib/python3.11/site-packages/pybamm/expression_tree/binary_operators.py:308\u001b[0m, in \u001b[0;36mMultiplication._binary_evaluate\u001b[0;34m(self, left, right)\u001b[0m\n\u001b[1;32m    307\u001b[0m \u001b[38;5;28;01melse\u001b[39;00m:\n\u001b[0;32m--> 308\u001b[0m     \u001b[38;5;28;01mreturn\u001b[39;00m left \u001b[38;5;241m*\u001b[39m right\n",
      "\u001b[0;31mValueError\u001b[0m: operands could not be broadcast together with shapes (102,1) (100,1) ",
      "\nDuring handling of the above exception, another exception occurred:\n",
      "\u001b[0;31mShapeError\u001b[0m                                Traceback (most recent call last)",
      "Cell \u001b[0;32mIn[12], line 3\u001b[0m\n\u001b[1;32m      1\u001b[0m spatial_methods \u001b[38;5;241m=\u001b[39m {\u001b[38;5;124m\"\u001b[39m\u001b[38;5;124munit line\u001b[39m\u001b[38;5;124m\"\u001b[39m: pybamm\u001b[38;5;241m.\u001b[39mFiniteVolume()}\n\u001b[1;32m      2\u001b[0m disc \u001b[38;5;241m=\u001b[39m pybamm\u001b[38;5;241m.\u001b[39mDiscretisation(mesh, spatial_methods)\n\u001b[0;32m----> 3\u001b[0m disc\u001b[38;5;241m.\u001b[39mprocess_model(model)\n",
      "File \u001b[0;32m/opt/anaconda3/lib/python3.11/site-packages/pybamm/discretisations/discretisation.py:212\u001b[0m, in \u001b[0;36mDiscretisation.process_model\u001b[0;34m(self, model, inplace, check_model, remove_independent_variables_from_rhs)\u001b[0m\n\u001b[1;32m    210\u001b[0m \u001b[38;5;66;03m# Process parabolic and elliptic equations\u001b[39;00m\n\u001b[1;32m    211\u001b[0m pybamm\u001b[38;5;241m.\u001b[39mlogger\u001b[38;5;241m.\u001b[39mverbose(\u001b[38;5;124mf\u001b[39m\u001b[38;5;124m\"\u001b[39m\u001b[38;5;124mDiscretise model equations for \u001b[39m\u001b[38;5;132;01m{\u001b[39;00mmodel\u001b[38;5;241m.\u001b[39mname\u001b[38;5;132;01m}\u001b[39;00m\u001b[38;5;124m\"\u001b[39m)\n\u001b[0;32m--> 212\u001b[0m rhs, concat_rhs, alg, concat_alg \u001b[38;5;241m=\u001b[39m \u001b[38;5;28mself\u001b[39m\u001b[38;5;241m.\u001b[39mprocess_rhs_and_algebraic(model)\n\u001b[1;32m    213\u001b[0m model_disc\u001b[38;5;241m.\u001b[39mrhs, model_disc\u001b[38;5;241m.\u001b[39mconcatenated_rhs \u001b[38;5;241m=\u001b[39m rhs, concat_rhs\n\u001b[1;32m    214\u001b[0m model_disc\u001b[38;5;241m.\u001b[39malgebraic, model_disc\u001b[38;5;241m.\u001b[39mconcatenated_algebraic \u001b[38;5;241m=\u001b[39m alg, concat_alg\n",
      "File \u001b[0;32m/opt/anaconda3/lib/python3.11/site-packages/pybamm/discretisations/discretisation.py:553\u001b[0m, in \u001b[0;36mDiscretisation.process_rhs_and_algebraic\u001b[0;34m(self, model)\u001b[0m\n\u001b[1;32m    535\u001b[0m \u001b[38;5;250m\u001b[39m\u001b[38;5;124;03m\"\"\"Discretise model equations - differential ('rhs') and algebraic.\u001b[39;00m\n\u001b[1;32m    536\u001b[0m \n\u001b[1;32m    537\u001b[0m \u001b[38;5;124;03mParameters\u001b[39;00m\n\u001b[0;32m   (...)\u001b[0m\n\u001b[1;32m    549\u001b[0m \n\u001b[1;32m    550\u001b[0m \u001b[38;5;124;03m\"\"\"\u001b[39;00m\n\u001b[1;32m    552\u001b[0m \u001b[38;5;66;03m# Discretise right-hand sides, passing domain from variable\u001b[39;00m\n\u001b[0;32m--> 553\u001b[0m processed_rhs \u001b[38;5;241m=\u001b[39m \u001b[38;5;28mself\u001b[39m\u001b[38;5;241m.\u001b[39mprocess_dict(model\u001b[38;5;241m.\u001b[39mrhs)\n\u001b[1;32m    555\u001b[0m \u001b[38;5;66;03m# Concatenate rhs into a single state vector\u001b[39;00m\n\u001b[1;32m    556\u001b[0m \u001b[38;5;66;03m# Need to concatenate in order as the ordering of equations could be different\u001b[39;00m\n\u001b[1;32m    557\u001b[0m \u001b[38;5;66;03m# in processed_rhs and model.rhs\u001b[39;00m\n\u001b[1;32m    558\u001b[0m processed_concatenated_rhs \u001b[38;5;241m=\u001b[39m \u001b[38;5;28mself\u001b[39m\u001b[38;5;241m.\u001b[39m_concatenate_in_order(processed_rhs)\n",
      "File \u001b[0;32m/opt/anaconda3/lib/python3.11/site-packages/pybamm/discretisations/discretisation.py:688\u001b[0m, in \u001b[0;36mDiscretisation.process_dict\u001b[0;34m(self, var_eqn_dict, ics)\u001b[0m\n\u001b[1;32m    685\u001b[0m         eqn \u001b[38;5;241m=\u001b[39m pybamm\u001b[38;5;241m.\u001b[39mFullBroadcast(eqn, broadcast_domains\u001b[38;5;241m=\u001b[39meqn_key\u001b[38;5;241m.\u001b[39mdomains)\n\u001b[1;32m    687\u001b[0m pybamm\u001b[38;5;241m.\u001b[39mlogger\u001b[38;5;241m.\u001b[39mdebug(\u001b[38;5;124mf\u001b[39m\u001b[38;5;124m\"\u001b[39m\u001b[38;5;124mDiscretise \u001b[39m\u001b[38;5;132;01m{\u001b[39;00meqn_key\u001b[38;5;132;01m!r}\u001b[39;00m\u001b[38;5;124m\"\u001b[39m)\n\u001b[0;32m--> 688\u001b[0m processed_eqn \u001b[38;5;241m=\u001b[39m \u001b[38;5;28mself\u001b[39m\u001b[38;5;241m.\u001b[39mprocess_symbol(eqn)\n\u001b[1;32m    689\u001b[0m \u001b[38;5;66;03m# Calculate scale if the key has a scale\u001b[39;00m\n\u001b[1;32m    690\u001b[0m scale \u001b[38;5;241m=\u001b[39m \u001b[38;5;28mgetattr\u001b[39m(eqn_key, \u001b[38;5;124m\"\u001b[39m\u001b[38;5;124mscale\u001b[39m\u001b[38;5;124m\"\u001b[39m, \u001b[38;5;241m1\u001b[39m)\n",
      "File \u001b[0;32m/opt/anaconda3/lib/python3.11/site-packages/pybamm/discretisations/discretisation.py:720\u001b[0m, in \u001b[0;36mDiscretisation.process_symbol\u001b[0;34m(self, symbol)\u001b[0m\n\u001b[1;32m    718\u001b[0m     \u001b[38;5;28;01mreturn\u001b[39;00m \u001b[38;5;28mself\u001b[39m\u001b[38;5;241m.\u001b[39m_discretised_symbols[symbol]\n\u001b[1;32m    719\u001b[0m \u001b[38;5;28;01mexcept\u001b[39;00m \u001b[38;5;167;01mKeyError\u001b[39;00m:\n\u001b[0;32m--> 720\u001b[0m     discretised_symbol \u001b[38;5;241m=\u001b[39m \u001b[38;5;28mself\u001b[39m\u001b[38;5;241m.\u001b[39m_process_symbol(symbol)\n\u001b[1;32m    721\u001b[0m     \u001b[38;5;28mself\u001b[39m\u001b[38;5;241m.\u001b[39m_discretised_symbols[symbol] \u001b[38;5;241m=\u001b[39m discretised_symbol\n\u001b[1;32m    722\u001b[0m     discretised_symbol\u001b[38;5;241m.\u001b[39mtest_shape()\n",
      "File \u001b[0;32m/opt/anaconda3/lib/python3.11/site-packages/pybamm/discretisations/discretisation.py:784\u001b[0m, in \u001b[0;36mDiscretisation._process_symbol\u001b[0;34m(self, symbol)\u001b[0m\n\u001b[1;32m    781\u001b[0m \u001b[38;5;28;01melif\u001b[39;00m \u001b[38;5;28misinstance\u001b[39m(symbol, pybamm\u001b[38;5;241m.\u001b[39mUnaryOperator):\n\u001b[1;32m    782\u001b[0m     child \u001b[38;5;241m=\u001b[39m symbol\u001b[38;5;241m.\u001b[39mchild\n\u001b[0;32m--> 784\u001b[0m     disc_child \u001b[38;5;241m=\u001b[39m \u001b[38;5;28mself\u001b[39m\u001b[38;5;241m.\u001b[39mprocess_symbol(child)\n\u001b[1;32m    785\u001b[0m     \u001b[38;5;28;01mif\u001b[39;00m child\u001b[38;5;241m.\u001b[39mdomain \u001b[38;5;241m!=\u001b[39m []:\n\u001b[1;32m    786\u001b[0m         child_spatial_method \u001b[38;5;241m=\u001b[39m \u001b[38;5;28mself\u001b[39m\u001b[38;5;241m.\u001b[39mspatial_methods[child\u001b[38;5;241m.\u001b[39mdomain[\u001b[38;5;241m0\u001b[39m]]\n",
      "File \u001b[0;32m/opt/anaconda3/lib/python3.11/site-packages/pybamm/discretisations/discretisation.py:722\u001b[0m, in \u001b[0;36mDiscretisation.process_symbol\u001b[0;34m(self, symbol)\u001b[0m\n\u001b[1;32m    720\u001b[0m discretised_symbol \u001b[38;5;241m=\u001b[39m \u001b[38;5;28mself\u001b[39m\u001b[38;5;241m.\u001b[39m_process_symbol(symbol)\n\u001b[1;32m    721\u001b[0m \u001b[38;5;28mself\u001b[39m\u001b[38;5;241m.\u001b[39m_discretised_symbols[symbol] \u001b[38;5;241m=\u001b[39m discretised_symbol\n\u001b[0;32m--> 722\u001b[0m discretised_symbol\u001b[38;5;241m.\u001b[39mtest_shape()\n\u001b[1;32m    724\u001b[0m \u001b[38;5;66;03m# Assign mesh as an attribute to the processed variable\u001b[39;00m\n\u001b[1;32m    725\u001b[0m \u001b[38;5;28;01mif\u001b[39;00m symbol\u001b[38;5;241m.\u001b[39mdomain \u001b[38;5;241m!=\u001b[39m []:\n",
      "File \u001b[0;32m/opt/anaconda3/lib/python3.11/site-packages/pybamm/expression_tree/symbol.py:997\u001b[0m, in \u001b[0;36mSymbol.test_shape\u001b[0;34m(self)\u001b[0m\n\u001b[1;32m    995\u001b[0m     \u001b[38;5;28mself\u001b[39m\u001b[38;5;241m.\u001b[39mshape_for_testing\n\u001b[1;32m    996\u001b[0m \u001b[38;5;28;01mexcept\u001b[39;00m \u001b[38;5;167;01mValueError\u001b[39;00m \u001b[38;5;28;01mas\u001b[39;00m e:\n\u001b[0;32m--> 997\u001b[0m     \u001b[38;5;28;01mraise\u001b[39;00m pybamm\u001b[38;5;241m.\u001b[39mShapeError(\u001b[38;5;124mf\u001b[39m\u001b[38;5;124m\"\u001b[39m\u001b[38;5;124mCannot find shape (original error: \u001b[39m\u001b[38;5;132;01m{\u001b[39;00me\u001b[38;5;132;01m}\u001b[39;00m\u001b[38;5;124m)\u001b[39m\u001b[38;5;124m\"\u001b[39m)\n",
      "\u001b[0;31mShapeError\u001b[0m: Cannot find shape (original error: operands could not be broadcast together with shapes (102,1) (100,1) )"
     ]
    }
   ],
   "source": [
    "spatial_methods = {\"unit line\": pybamm.FiniteVolume()}\n",
    "disc = pybamm.Discretisation(mesh, spatial_methods)\n",
    "disc.process_model(model);"
   ]
  },
  {
   "cell_type": "code",
   "execution_count": null,
   "id": "4eb26bea-2075-4c4c-a848-438e45220a6c",
   "metadata": {},
   "outputs": [],
   "source": [
    "# solve\n",
    "solver = pybamm.ScipySolver()\n",
    "t = np.linspace(0, 10, 100)\n",
    "solution = solver.solve(model, t)\n",
    "\n",
    "# post-process, so solution can be called at any time t or space x\n",
    "c = solution[\"c\"]\n",
    "\n",
    "# plot\n",
    "fig, (ax1, ax2) = plt.subplots(1, 2, figsize=(13, 4))\n",
    "\n",
    "ax1.plot(solution.t, c(solution.t, x=1))\n",
    "ax1.set_xlabel(\"t\")\n",
    "ax1.set_ylabel(\"Surface concentration\")\n",
    "x = np.linspace(0, 1, 100)\n",
    "ax2.plot(x, c(t=0, x=x), label='t = 0')\n",
    "ax2.plot(x, c(t=0.5, x=x), label='t = 0.5')\n",
    "ax2.plot(x, c(t=2, x=x), label='t = 2')\n",
    "ax2.set_xlabel(\"x\")\n",
    "ax2.set_ylabel(\"Concentration\")\n",
    "plt.legend()\n",
    "plt.tight_layout()\n",
    "plt.show()"
   ]
  }
 ],
 "metadata": {
  "kernelspec": {
   "display_name": "mmscenv",
   "language": "python",
   "name": "python3"
  },
  "language_info": {
   "codemirror_mode": {
    "name": "ipython",
    "version": 3
   },
   "file_extension": ".py",
   "mimetype": "text/x-python",
   "name": "python",
   "nbconvert_exporter": "python",
   "pygments_lexer": "ipython3",
   "version": "3.9.19"
  },
  "vscode": {
   "interpreter": {
    "hash": "da8e6e803cbb6cc65c8e5c8b7401f481f736d0f9645b2501c5eaad9a468862df"
   }
  }
 },
 "nbformat": 4,
 "nbformat_minor": 5
}
