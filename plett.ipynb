{
 "cells": [
  {
   "cell_type": "code",
   "execution_count": 2,
   "metadata": {},
   "outputs": [],
   "source": [
    "import pybamm\n",
    "\n",
    "model = pybamm.BaseModel()\n"
   ]
  },
  {
   "cell_type": "code",
   "execution_count": 3,
   "metadata": {},
   "outputs": [],
   "source": [
    "ocv_data = pybamm.parameters.process_1D_data(\"ecm_example_ocv.csv\")\n",
    "\n",
    "def ocv(soc):\n",
    "    name, (x, y) = ocv_data\n",
    "    return pybamm.Interpolant(x, y, soc, name)"
   ]
  },
  {
   "cell_type": "code",
   "execution_count": null,
   "metadata": {},
   "outputs": [],
   "source": [
    "z = pybamm.Variable(\"z\")\n",
    "# equation for z\n",
    "V = ocv(z) # + ..."
   ]
  }
 ],
 "metadata": {
  "kernelspec": {
   "display_name": "mmscenv",
   "language": "python",
   "name": "python3"
  },
  "language_info": {
   "codemirror_mode": {
    "name": "ipython",
    "version": 3
   },
   "file_extension": ".py",
   "mimetype": "text/x-python",
   "name": "python",
   "nbconvert_exporter": "python",
   "pygments_lexer": "ipython3",
   "version": "3.9.19"
  },
  "orig_nbformat": 4,
  "vscode": {
   "interpreter": {
    "hash": "da8e6e803cbb6cc65c8e5c8b7401f481f736d0f9645b2501c5eaad9a468862df"
   }
  }
 },
 "nbformat": 4,
 "nbformat_minor": 2
}
